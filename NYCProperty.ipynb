{
 "cells": [
  {
   "cell_type": "markdown",
   "id": "53906580",
   "metadata": {},
   "source": [
    "# NYC Property Transactions"
   ]
  },
  {
   "cell_type": "code",
   "execution_count": 1,
   "id": "4df123c6",
   "metadata": {},
   "outputs": [
    {
     "name": "stderr",
     "output_type": "stream",
     "text": [
      "c:\\Programmieren\\StreamlitDashboard\\venv\\Lib\\site-packages\\tqdm\\auto.py:21: TqdmWarning: IProgress not found. Please update jupyter and ipywidgets. See https://ipywidgets.readthedocs.io/en/stable/user_install.html\n",
      "  from .autonotebook import tqdm as notebook_tqdm\n"
     ]
    },
    {
     "name": "stdout",
     "output_type": "stream",
     "text": [
      "Downloading from https://www.kaggle.com/api/v1/datasets/download/datasciencedonut/current-nyc-property-sales?dataset_version_number=11...\n"
     ]
    },
    {
     "name": "stderr",
     "output_type": "stream",
     "text": [
      "100%|██████████| 40.4M/40.4M [00:02<00:00, 14.6MB/s]"
     ]
    },
    {
     "name": "stdout",
     "output_type": "stream",
     "text": [
      "Extracting files...\n"
     ]
    },
    {
     "name": "stderr",
     "output_type": "stream",
     "text": [
      "\n"
     ]
    },
    {
     "name": "stdout",
     "output_type": "stream",
     "text": [
      "Path to dataset files: C:\\Users\\flori\\.cache\\kagglehub\\datasets\\datasciencedonut\\current-nyc-property-sales\\versions\\11\n"
     ]
    }
   ],
   "source": [
    "import kagglehub\n",
    "\n",
    "# Download latest version\n",
    "path = kagglehub.dataset_download(\"datasciencedonut/current-nyc-property-sales\")\n",
    "\n",
    "print(\"Path to dataset files:\", path)"
   ]
  },
  {
   "cell_type": "code",
   "execution_count": 5,
   "id": "7b3b6d3e",
   "metadata": {},
   "outputs": [
    {
     "name": "stderr",
     "output_type": "stream",
     "text": [
      "C:\\Users\\flori\\AppData\\Local\\Temp\\ipykernel_34744\\1238548309.py:8: DtypeWarning: Columns (0,4,5,6,10,11,12,13,14,15,16,17,19) have mixed types. Specify dtype option on import or set low_memory=False.\n",
      "  df = pd.read_csv(file_path)\n"
     ]
    },
    {
     "data": {
      "text/plain": [
       "Index(['BOROUGH', 'NEIGHBORHOOD', 'BUILDING CLASS CATEGORY',\n",
       "       'TAX CLASS AT PRESENT', 'BLOCK', 'LOT', 'EASE-MENT',\n",
       "       'BUILDING CLASS AT PRESENT', 'ADDRESS', 'APARTMENT NUMBER', ' ZIP CODE',\n",
       "       'RESIDENTIAL UNITS', 'COMMERCIAL UNITS', 'TOTAL UNITS',\n",
       "       'LAND SQUARE FEET', 'GROSS SQUARE FEET', 'YEAR BUILT',\n",
       "       'TAX CLASS AT TIME OF SALE', 'BUILDING CLASS AT TIME OF SALE',\n",
       "       'SALE PRICE', 'SALE DATE'],\n",
       "      dtype='object')"
      ]
     },
     "execution_count": 5,
     "metadata": {},
     "output_type": "execute_result"
    }
   ],
   "source": [
    "import pandas as pd\n",
    "import os\n",
    "\n",
    "# Beispiel: Der Pfad aus deinem vorherigen kagglehub download\n",
    "file_path = path + \"/nyc-property-sales.csv\"  # Passe den Dateinamen ggf. an\n",
    "\n",
    "# CSV einlesen\n",
    "df = pd.read_csv(file_path)\n",
    "\n",
    "df.columns\n"
   ]
  },
  {
   "cell_type": "code",
   "execution_count": 7,
   "id": "34599d7d",
   "metadata": {},
   "outputs": [],
   "source": [
    "zips = df[' ZIP CODE'].unique().tolist()"
   ]
  },
  {
   "cell_type": "code",
   "execution_count": 16,
   "id": "6a777187",
   "metadata": {},
   "outputs": [],
   "source": [
    "import numpy as np\n",
    "\n",
    "# Nullen durch NaN ersetzen\n",
    "df_replaced = df.replace(0, np.nan)\n",
    "\n",
    "# Zeilen mit NaNs entfernen (also vorher Nullen)\n",
    "df_no_zeros = df_replaced.dropna()"
   ]
  },
  {
   "cell_type": "code",
   "execution_count": 27,
   "id": "08d76ff1",
   "metadata": {},
   "outputs": [
    {
     "name": "stderr",
     "output_type": "stream",
     "text": [
      "C:\\Users\\flori\\AppData\\Local\\Temp\\ipykernel_34744\\3233355835.py:1: SettingWithCopyWarning: \n",
      "A value is trying to be set on a copy of a slice from a DataFrame.\n",
      "Try using .loc[row_indexer,col_indexer] = value instead\n",
      "\n",
      "See the caveats in the documentation: https://pandas.pydata.org/pandas-docs/stable/user_guide/indexing.html#returning-a-view-versus-a-copy\n",
      "  df_no_zeros['SALE PRICE'] = pd.to_numeric(df_no_zeros['SALE PRICE'], errors='coerce')\n",
      "C:\\Users\\flori\\AppData\\Local\\Temp\\ipykernel_34744\\3233355835.py:2: SettingWithCopyWarning: \n",
      "A value is trying to be set on a copy of a slice from a DataFrame.\n",
      "Try using .loc[row_indexer,col_indexer] = value instead\n",
      "\n",
      "See the caveats in the documentation: https://pandas.pydata.org/pandas-docs/stable/user_guide/indexing.html#returning-a-view-versus-a-copy\n",
      "  df_no_zeros['GROSS SQUARE FEET'] = pd.to_numeric(df_no_zeros['GROSS SQUARE FEET'], errors='coerce')\n",
      "C:\\Users\\flori\\AppData\\Local\\Temp\\ipykernel_34744\\3233355835.py:3: SettingWithCopyWarning: \n",
      "A value is trying to be set on a copy of a slice from a DataFrame.\n",
      "Try using .loc[row_indexer,col_indexer] = value instead\n",
      "\n",
      "See the caveats in the documentation: https://pandas.pydata.org/pandas-docs/stable/user_guide/indexing.html#returning-a-view-versus-a-copy\n",
      "  df_no_zeros[' ZIP CODE'] = pd.to_numeric(df_no_zeros[' ZIP CODE'], errors='coerce')\n"
     ]
    }
   ],
   "source": [
    "df_no_zeros['SALE PRICE'] = pd.to_numeric(df_no_zeros['SALE PRICE'], errors='coerce')\n",
    "df_no_zeros['GROSS SQUARE FEET'] = pd.to_numeric(df_no_zeros['GROSS SQUARE FEET'], errors='coerce')\n",
    "df_no_zeros[' ZIP CODE'] = pd.to_numeric(df_no_zeros[' ZIP CODE'], errors='coerce')\n",
    "\n"
   ]
  },
  {
   "cell_type": "code",
   "execution_count": null,
   "id": "9f1f1380",
   "metadata": {},
   "outputs": [
    {
     "name": "stderr",
     "output_type": "stream",
     "text": [
      "C:\\Users\\flori\\AppData\\Local\\Temp\\ipykernel_34744\\425301075.py:1: SettingWithCopyWarning: \n",
      "A value is trying to be set on a copy of a slice from a DataFrame.\n",
      "Try using .loc[row_indexer,col_indexer] = value instead\n",
      "\n",
      "See the caveats in the documentation: https://pandas.pydata.org/pandas-docs/stable/user_guide/indexing.html#returning-a-view-versus-a-copy\n",
      "  df_no_zeros['PRICE_PER_SQFT'] = df_no_zeros['SALE PRICE'] / df_no_zeros['GROSS SQUARE FEET']\n"
     ]
    }
   ],
   "source": [
    "df_no_zeros['PRICE_PER_SQFT'] = df_no_zeros['SALE PRICE'] / df_no_zeros['GROSS SQUARE FEET']\n",
    "\n",
    "average_price_per_sqft = df_no_zeros.groupby(' ZIP CODE')['PRICE_PER_SQFT'].mean().reset_index()\n",
    "\n",
    "# Sortiere nach ZIP-Code\n",
    "average_price_per_sqft_sorted = average_price_per_sqft.sort_values(by=' ZIP CODE')"
   ]
  },
  {
   "cell_type": "code",
   "execution_count": null,
   "id": "295d7e28",
   "metadata": {},
   "outputs": [],
   "source": [
    "import pandas as pd\n",
    "\n",
    "df = pd.read_csv(\"immobilien_mit_koordinaten.csv\")"
   ]
  },
  {
   "cell_type": "code",
   "execution_count": 5,
   "id": "e7032d5a",
   "metadata": {},
   "outputs": [],
   "source": [
    "import geopandas as gpd\n",
    "\n",
    "# Load the full US ZCTA shapefile\n",
    "full_shapefile = gpd.read_file(\"ShapeFiles/tl_2020_us_zcta520.shp\")\n",
    "\n",
    "# Get the list of NYC ZIP codes used in your application\n",
    "nyc_zipcodes = list(df['ZIPCODE'].unique())  # Your actual ZIP codes from your dataset\n",
    "\n",
    "# Filter the shapefile to keep only NYC ZIP codes\n",
    "nyc_shapefile = full_shapefile[full_shapefile['ZCTA5CE20'].astype(int).isin(nyc_zipcodes)]\n",
    "\n",
    "# Save the reduced shapefile\n",
    "nyc_shapefile.to_file(\"ShapeFiles/nyc_zcta520.shp\")"
   ]
  },
  {
   "cell_type": "code",
   "execution_count": 1,
   "id": "b06c0d26",
   "metadata": {},
   "outputs": [
    {
     "ename": "NameError",
     "evalue": "name 'df_no_zeros' is not defined",
     "output_type": "error",
     "traceback": [
      "\u001b[31m---------------------------------------------------------------------------\u001b[39m",
      "\u001b[31mNameError\u001b[39m                                 Traceback (most recent call last)",
      "\u001b[36mCell\u001b[39m\u001b[36m \u001b[39m\u001b[32mIn[1]\u001b[39m\u001b[32m, line 1\u001b[39m\n\u001b[32m----> \u001b[39m\u001b[32m1\u001b[39m \u001b[43mdf_no_zeros\u001b[49m.to_csv(\u001b[33m'\u001b[39m\u001b[33mimmobilien_mit_koordinaten_new.csv\u001b[39m\u001b[33m'\u001b[39m, index=\u001b[38;5;28;01mFalse\u001b[39;00m)\n",
      "\u001b[31mNameError\u001b[39m: name 'df_no_zeros' is not defined"
     ]
    }
   ],
   "source": [
    "df_no_zeros.to_csv('immobilien_mit_koordinaten_new.csv', index=False)"
   ]
  },
  {
   "cell_type": "code",
   "execution_count": 32,
   "id": "616c8ad1",
   "metadata": {},
   "outputs": [],
   "source": [
    "average_price_per_sqft_sorted = average_price_per_sqft_sorted.rename(columns={' ZIP CODE': 'ZIPCODE'})\n",
    "average_price_per_sqft_sorted[\"PRICE_PER_SQFT\"] = average_price_per_sqft_sorted[\"PRICE_PER_SQFT\"] * 1000"
   ]
  },
  {
   "cell_type": "code",
   "execution_count": null,
   "id": "c832757a",
   "metadata": {},
   "outputs": [
    {
     "data": {
      "text/html": [
       "<div>\n",
       "<style scoped>\n",
       "    .dataframe tbody tr th:only-of-type {\n",
       "        vertical-align: middle;\n",
       "    }\n",
       "\n",
       "    .dataframe tbody tr th {\n",
       "        vertical-align: top;\n",
       "    }\n",
       "\n",
       "    .dataframe thead th {\n",
       "        text-align: right;\n",
       "    }\n",
       "</style>\n",
       "<table border=\"1\" class=\"dataframe\">\n",
       "  <thead>\n",
       "    <tr style=\"text-align: right;\">\n",
       "      <th></th>\n",
       "      <th>ZIPCODE</th>\n",
       "      <th>PRICE_PER_SQFT</th>\n",
       "    </tr>\n",
       "  </thead>\n",
       "  <tbody>\n",
       "    <tr>\n",
       "      <th>0</th>\n",
       "      <td>10001.0</td>\n",
       "      <td>7.828461e+05</td>\n",
       "    </tr>\n",
       "    <tr>\n",
       "      <th>1</th>\n",
       "      <td>10002.0</td>\n",
       "      <td>4.706738e+05</td>\n",
       "    </tr>\n",
       "    <tr>\n",
       "      <th>2</th>\n",
       "      <td>10003.0</td>\n",
       "      <td>6.541746e+05</td>\n",
       "    </tr>\n",
       "    <tr>\n",
       "      <th>3</th>\n",
       "      <td>10004.0</td>\n",
       "      <td>4.322639e+05</td>\n",
       "    </tr>\n",
       "    <tr>\n",
       "      <th>4</th>\n",
       "      <td>10005.0</td>\n",
       "      <td>6.586602e+05</td>\n",
       "    </tr>\n",
       "    <tr>\n",
       "      <th>...</th>\n",
       "      <td>...</td>\n",
       "      <td>...</td>\n",
       "    </tr>\n",
       "    <tr>\n",
       "      <th>173</th>\n",
       "      <td>11691.0</td>\n",
       "      <td>1.443645e+05</td>\n",
       "    </tr>\n",
       "    <tr>\n",
       "      <th>174</th>\n",
       "      <td>11692.0</td>\n",
       "      <td>1.112344e+05</td>\n",
       "    </tr>\n",
       "    <tr>\n",
       "      <th>175</th>\n",
       "      <td>11693.0</td>\n",
       "      <td>1.649391e+05</td>\n",
       "    </tr>\n",
       "    <tr>\n",
       "      <th>176</th>\n",
       "      <td>11694.0</td>\n",
       "      <td>1.771696e+05</td>\n",
       "    </tr>\n",
       "    <tr>\n",
       "      <th>177</th>\n",
       "      <td>11697.0</td>\n",
       "      <td>1.983333e+06</td>\n",
       "    </tr>\n",
       "  </tbody>\n",
       "</table>\n",
       "<p>178 rows × 2 columns</p>\n",
       "</div>"
      ],
      "text/plain": [
       "     ZIPCODE  PRICE_PER_SQFT\n",
       "0    10001.0    7.828461e+05\n",
       "1    10002.0    4.706738e+05\n",
       "2    10003.0    6.541746e+05\n",
       "3    10004.0    4.322639e+05\n",
       "4    10005.0    6.586602e+05\n",
       "..       ...             ...\n",
       "173  11691.0    1.443645e+05\n",
       "174  11692.0    1.112344e+05\n",
       "175  11693.0    1.649391e+05\n",
       "176  11694.0    1.771696e+05\n",
       "177  11697.0    1.983333e+06\n",
       "\n",
       "[178 rows x 2 columns]"
      ]
     },
     "execution_count": 33,
     "metadata": {},
     "output_type": "execute_result"
    }
   ],
   "source": [
    "average_price_per_sqft_sorted"
   ]
  },
  {
   "cell_type": "code",
   "execution_count": 38,
   "id": "ab2b86b9",
   "metadata": {},
   "outputs": [],
   "source": [
    "average_price_per_sqft_sorted = average_price_per_sqft_sorted[average_price_per_sqft_sorted['ZIPCODE'] != 10309]\n",
    "average_price_per_sqft_sorted.to_csv('average_price_per_sqft_sorted_new.csv', index=False)"
   ]
  },
  {
   "cell_type": "code",
   "execution_count": 37,
   "id": "41588dae",
   "metadata": {},
   "outputs": [
    {
     "name": "stderr",
     "output_type": "stream",
     "text": [
      "C:\\Users\\flori\\AppData\\Local\\Temp\\ipykernel_34744\\3973180604.py:43: UserWarning: Geometry is in a geographic CRS. Results from 'centroid' are likely incorrect. Use 'GeoSeries.to_crs()' to re-project geometries to a projected CRS before this operation.\n",
      "\n",
      "  center_lat = nyc_zip_prices.geometry.centroid.y.mean()\n",
      "C:\\Users\\flori\\AppData\\Local\\Temp\\ipykernel_34744\\3973180604.py:44: UserWarning: Geometry is in a geographic CRS. Results from 'centroid' are likely incorrect. Use 'GeoSeries.to_crs()' to re-project geometries to a projected CRS before this operation.\n",
      "\n",
      "  center_lon = nyc_zip_prices.geometry.centroid.x.mean()\n"
     ]
    },
    {
     "name": "stdout",
     "output_type": "stream",
     "text": [
      "Interaktive Karte wurde als 'nyc_zipcode_prices_interactive.html' gespeichert.\n",
      "Öffnen Sie die Datei in einem Webbrowser, um die interaktive Karte zu sehen.\n"
     ]
    }
   ],
   "source": [
    "import pandas as pd\n",
    "import geopandas as gpd\n",
    "import folium\n",
    "from folium.plugins import MarkerCluster\n",
    "import branca.colormap as cm\n",
    "import numpy as np\n",
    "\n",
    "# 1. Preisdaten laden (aus der Tabelle im Bild)\n",
    "preis_data = average_price_per_sqft_sorted\n",
    "preis_data = preis_data[preis_data['ZIPCODE'] != 11375]\n",
    "preis_data = preis_data[preis_data['ZIPCODE'] != 11229]\n",
    "preis_data = preis_data[preis_data['ZIPCODE'] != 11697]\n",
    "\n",
    "\n",
    "# 2. ZCTA Shapefile laden\n",
    "shapefile_path = \"ShapeFiles/tl_2020_us_zcta520.shp\"\n",
    "nyc_zip = gpd.read_file(shapefile_path)\n",
    "\n",
    "# 3. ZIPCODE-Spalte überprüfen und bei Bedarf anpassen\n",
    "if 'ZIPCODE' not in nyc_zip.columns:\n",
    "    if 'ZCTA5CE20' in nyc_zip.columns:\n",
    "        nyc_zip['ZIPCODE'] = nyc_zip['ZCTA5CE20'].astype(int)\n",
    "    else:\n",
    "        print(\"Verfügbare Spalten im Shapefile:\", nyc_zip.columns.tolist())\n",
    "        raise ValueError(\"Spalte 'ZIPCODE' nicht gefunden. Bitte überprüfen Sie das Shapefile.\")\n",
    "\n",
    "# 4. Datentyp für Merge anpassen\n",
    "nyc_zip['ZIPCODE'] = nyc_zip['ZIPCODE'].astype(int)\n",
    "\n",
    "# 5. Filtern nach PLZs aus den Preisdaten\n",
    "zip_codes = preis_data['ZIPCODE'].tolist()\n",
    "nyc_zip_filtered = nyc_zip[nyc_zip['ZIPCODE'].isin(zip_codes)]\n",
    "\n",
    "# 6. Merge mit Preisdaten\n",
    "nyc_zip_prices = nyc_zip_filtered.merge(preis_data, on='ZIPCODE')\n",
    "\n",
    "# 7. Umwandlung in WGS84 (EPSG:4326) für Folium\n",
    "# Falls das Shapefile bereits in WGS84 ist, kann dieser Schritt entfallen\n",
    "if nyc_zip_prices.crs and nyc_zip_prices.crs != \"EPSG:4326\":\n",
    "    nyc_zip_prices = nyc_zip_prices.to_crs(epsg=4326)\n",
    "\n",
    "# 8. Zentrum der Karte berechnen\n",
    "center_lat = nyc_zip_prices.geometry.centroid.y.mean()\n",
    "center_lon = nyc_zip_prices.geometry.centroid.x.mean()\n",
    "\n",
    "# 9. Interaktive Karte erstellen\n",
    "map_nyc = folium.Map(location=[center_lat, center_lon], \n",
    "                     zoom_start=10,\n",
    "                     tiles='CartoDB positron')  # Alternativen: 'OpenStreetMap', 'Stamen Terrain', etc.\n",
    "\n",
    "# 10. Farbskala für die Preise erstellen\n",
    "min_price = nyc_zip_prices['PRICE_PER_SQFT'].min()\n",
    "max_price = nyc_zip_prices['PRICE_PER_SQFT'].max()\n",
    "\n",
    "# Farbskala von grün (niedrige Preise) nach rot (hohe Preise)\n",
    "colormap = cm.LinearColormap(\n",
    "    colors=['green', 'yellow', 'orange', 'red'],\n",
    "    vmin=min_price,\n",
    "    vmax=max_price\n",
    ")\n",
    "colormap.caption = 'Preis pro Quadratmeter (USD)'\n",
    "\n",
    "# 11. GeoJSON zu Folium hinzufügen\n",
    "# Style-Funktion basierend auf Preis\n",
    "def style_function(feature):\n",
    "    price = feature['properties']['PRICE_PER_SQFT']\n",
    "    return {\n",
    "        'fillColor': colormap(price),\n",
    "        'color': 'black',\n",
    "        'weight': 1,\n",
    "        'fillOpacity': 0.7\n",
    "    }\n",
    "\n",
    "# Highlight-Funktion für Maus-Hover\n",
    "def highlight_function(feature):\n",
    "    return {\n",
    "        'fillColor': colormap(feature['properties']['PRICE_PER_SQFT']),\n",
    "        'color': 'white',\n",
    "        'weight': 3,\n",
    "        'fillOpacity': 0.9\n",
    "    }\n",
    "\n",
    "# GeoJSON-Layer erstellen\n",
    "# GeoJSON-Layer erstellen\n",
    "folium.GeoJson(\n",
    "    nyc_zip_prices,\n",
    "    name='Immobilienpreise',\n",
    "    style_function=style_function,\n",
    "    highlight_function=highlight_function,\n",
    "    tooltip=folium.GeoJsonTooltip(\n",
    "        fields=['ZIPCODE', 'PRICE_PER_SQFT'],\n",
    "        aliases=['PLZ:', 'Preis pro qm ($):'],\n",
    "        localize=False,  # Lokalisierung deaktiviert\n",
    "        sticky=True,\n",
    "        labels=True\n",
    "    ),\n",
    "    popup=folium.GeoJsonPopup(\n",
    "        fields=['ZIPCODE', 'PRICE_PER_SQFT'],\n",
    "        aliases=['PLZ:', 'Preis pro qm ($):'],\n",
    "        localize=False  # Lokalisierung deaktiviert\n",
    "    )\n",
    ").add_to(map_nyc)\n",
    "\n",
    "# Optionale Darstellung der ZIP-Codes als Labels in der Karte\n",
    "# Erstellen eines Feature-Groups für bessere Kontrolle\n",
    "labels = folium.FeatureGroup(name='Labels').add_to(map_nyc)\n",
    "\n",
    "# Farbskala zur Karte hinzufügen\n",
    "colormap.add_to(map_nyc)\n",
    "\n",
    "# Layer-Control hinzufügen (um Labels ein-/auszuschalten)\n",
    "folium.LayerControl().add_to(map_nyc)\n",
    "\n",
    "# Karte als HTML-Datei speichern\n",
    "map_nyc.save('nyc_zipcode_prices_interactive.html')\n",
    "\n",
    "# Falls gewünscht, die Karte direkt im Jupyter Notebook anzeigen\n",
    "# display(map_nyc)\n",
    "\n",
    "print(\"Interaktive Karte wurde als 'nyc_zipcode_prices_interactive.html' gespeichert.\")\n",
    "print(\"Öffnen Sie die Datei in einem Webbrowser, um die interaktive Karte zu sehen.\")"
   ]
  }
 ],
 "metadata": {
  "kernelspec": {
   "display_name": "venv",
   "language": "python",
   "name": "python3"
  },
  "language_info": {
   "codemirror_mode": {
    "name": "ipython",
    "version": 3
   },
   "file_extension": ".py",
   "mimetype": "text/x-python",
   "name": "python",
   "nbconvert_exporter": "python",
   "pygments_lexer": "ipython3",
   "version": "3.13.2"
  }
 },
 "nbformat": 4,
 "nbformat_minor": 5
}
